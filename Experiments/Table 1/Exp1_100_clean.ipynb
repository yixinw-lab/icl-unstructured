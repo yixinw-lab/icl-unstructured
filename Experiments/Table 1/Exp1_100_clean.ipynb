{
 "cells": [
  {
   "cell_type": "code",
   "execution_count": 2,
   "id": "1fad92d0",
   "metadata": {},
   "outputs": [],
   "source": [
    "import pandas as pd\n",
    "import numpy as np\n",
    "import matplotlib.pyplot as plt\n",
    "import numpy.random as npr\n",
    "import random\n",
    "\n",
    "import tensorflow as tf\n",
    "from tensorflow import keras\n",
    "from tensorflow.keras import layers\n",
    "from tensorflow.keras import backend as K\n",
    "from keras.optimizers import Adam\n",
    "from keras_nlp.layers import PositionEmbedding"
   ]
  },
  {
   "cell_type": "code",
   "execution_count": 3,
   "id": "df3b6089",
   "metadata": {},
   "outputs": [],
   "source": [
    "seed = 428\n",
    "\n",
    "np.random.seed(seed)\n",
    "tf.random.set_seed(seed)\n",
    "random.seed(seed)"
   ]
  },
  {
   "cell_type": "code",
   "execution_count": 4,
   "id": "e6302f08",
   "metadata": {},
   "outputs": [],
   "source": [
    "def get_masked_input_and_labels(encoded_texts, n_cat):\n",
    "    # For each sentence, mask each word one-by-one\n",
    "\n",
    "    encoded_texts_masked = []\n",
    "    y_labels = []\n",
    "\n",
    "    for encoded_text in encoded_texts:\n",
    "        for i in range(len(encoded_text)):\n",
    "            encoded_text_masked = np.copy(encoded_text)\n",
    "            y_label = encoded_text_masked[i]\n",
    "            encoded_texts_masked.append(np.delete(encoded_text_masked, i))\n",
    "            y_labels.append(np.array([y_label]))\n",
    "\n",
    "    return np.array(encoded_texts_masked), np.array(y_labels)"
   ]
  },
  {
   "cell_type": "code",
   "execution_count": 5,
   "id": "7a9a18d6",
   "metadata": {},
   "outputs": [],
   "source": [
    "#### K = number of countries = number of capitals\n",
    "#### S = number of words used by both topics\n",
    "#### L = sentence length\n",
    "#### q1, q2 = probability of having 1 or 2 pairs\n",
    "#### embed_dim = dimension of embeddings\n",
    "#### n_sentences = number of training sentences\n",
    "\n",
    "def train_model(K, S, L, q1, q2, embed_dim, n_sentences):\n",
    "    \n",
    "    countries = ['country_' + str(i) for i in range(K)]\n",
    "    capitals = ['capital_' + str(i) for i in range(K)]\n",
    "    randoms = ['random_' + str(i) for i in range(S)]\n",
    "\n",
    "    vocabs = countries + capitals + randoms\n",
    "    vocab_map = {}\n",
    "\n",
    "    for i in range(len(vocabs)):\n",
    "        vocab_map[vocabs[i]] = i\n",
    "        \n",
    "    sentences = []\n",
    "    sentences_number = []\n",
    "    \n",
    "    q0 = 1 - q1 - q2\n",
    "\n",
    "    for i in range(n_sentences):\n",
    "\n",
    "        sentence = []\n",
    "\n",
    "        temp2 = npr.uniform()\n",
    "        \n",
    "        if temp2 <= q0:\n",
    "            n_pairs = 0\n",
    "        elif temp2 <= q0 + q1:\n",
    "            n_pairs = 1\n",
    "        else:\n",
    "            n_pairs = 2\n",
    "        \n",
    "        pairs = np.random.choice(np.arange(K), n_pairs, replace = False)\n",
    "        for pair in pairs:\n",
    "            sentence.append(countries[pair])\n",
    "            sentence.append(capitals[pair])        \n",
    "        sentence += list(np.random.choice(randoms, L - 2 * n_pairs, replace = False))\n",
    "\n",
    "        sentence_number = [vocab_map[i] for i in sentence]\n",
    "        sentences.append(sentence)\n",
    "        sentences_number.append(sentence_number)\n",
    "        \n",
    "    x_train = np.array(sentences_number)\n",
    "    n_cat = len(vocab_map)\n",
    "    x_masked_train, y_masked_labels_train = get_masked_input_and_labels(x_train, n_cat)\n",
    "    \n",
    "    callback = keras.callbacks.EarlyStopping(monitor = 'val_loss', patience = 5, restore_best_weights = True)\n",
    "    inputs = layers.Input((x_masked_train.shape[1],), dtype=tf.int64)\n",
    "    word_embeddings = layers.Embedding(n_cat, embed_dim, name=\"word_embedding\")(inputs)\n",
    "    encoder_output = layers.GlobalAveragePooling1D()(word_embeddings)\n",
    "    mlm_output = layers.Dense(n_cat, name=\"mlm_cls\", activation=\"softmax\", use_bias=False)(encoder_output)\n",
    "    mlm_model = keras.Model(inputs = inputs, outputs = mlm_output)\n",
    "    adam = Adam()\n",
    "    mlm_model.compile(loss='sparse_categorical_crossentropy', optimizer=adam)\n",
    "\n",
    "    history = mlm_model.fit(x_masked_train, y_masked_labels_train,\n",
    "                        validation_split = 0.5, callbacks = [callback], \n",
    "                        epochs=500, batch_size=128, verbose=0)\n",
    "    \n",
    "    return sentences, vocab_map, mlm_model"
   ]
  },
  {
   "cell_type": "code",
   "execution_count": 6,
   "id": "85be6230",
   "metadata": {},
   "outputs": [],
   "source": [
    "def get_acc_prob(K, S, L, q1, q2, embed_dim, n_sentences, n_samples):\n",
    "    \n",
    "    sentences, vocab_map, current_model = train_model(K, S, L, q1, q2, embed_dim, n_sentences)\n",
    "\n",
    "    acc_countries = []\n",
    "    prob_countries = []\n",
    "\n",
    "    for _ in range(n_samples):\n",
    "        sentence = []\n",
    "        random_countries = np.random.choice(np.arange(K), int(L/2), replace = False)\n",
    "        for random_country in random_countries:\n",
    "            sentence.append('country_' + str(random_country))\n",
    "            sentence.append('capital_' + str(random_country))\n",
    "        sentence = sentence[:-1]\n",
    "        sentence_number = [vocab_map[i] for i in sentence]\n",
    "        temp = keras.backend.function(inputs = current_model.layers[0].input, outputs = current_model.layers[-1].output) \\\n",
    "            (np.array(sentence_number).reshape(1,len(sentence_number)))\n",
    "        actual = vocab_map['capital_' + str(random_countries[-1])]\n",
    "        acc_countries.append(1 if np.argsort(-1 * temp)[0][0] == actual else 0)\n",
    "        prob_countries.append(temp[0][vocab_map['capital_' + str(random_countries[-1])]])\n",
    "        \n",
    "\n",
    "    return sentences, current_model, vocab_map, (np.mean(acc_countries), np.mean(prob_countries))"
   ]
  },
  {
   "cell_type": "code",
   "execution_count": 7,
   "id": "d19dd717",
   "metadata": {},
   "outputs": [],
   "source": [
    "K = 10 # number of countries\n",
    "L = 8 # sentence length\n",
    "S = 20 # number of words used by both topics\n",
    "embed_dim = 100 # CBOW embedding dimension\n",
    "n_sentences = 50000 # number of sentences in the training set\n",
    "n_samples = 1000"
   ]
  },
  {
   "cell_type": "code",
   "execution_count": 9,
   "id": "0e89e3d9",
   "metadata": {},
   "outputs": [
    {
     "name": "stdout",
     "output_type": "stream",
     "text": [
      "(0.0, 0.0)\n",
      "(0.0, 0.0)\n",
      "(0.0, 0.0)\n",
      "(0.0, 5.31222e-40)\n",
      "(0.0, 0.0)\n",
      "(0.0, 0.0)\n",
      "(0.0, 2.2890677e-37)\n",
      "(0.0, 0.0)\n",
      "(0.0, 0.0)\n",
      "(0.0, 0.0)\n",
      "(0.0, 2.2943799010748445e-38)\n"
     ]
    }
   ],
   "source": [
    "q0 = 0 # probability of having 0 pairs\n",
    "q1 = 1 # probability of having 1 pair\n",
    "q2 = 0 # probability of having 2 pairs\n",
    "\n",
    "accs = 0\n",
    "probs = 0\n",
    "\n",
    "for _ in range(10):\n",
    "    sentences, mlm_model, vocab_map, acc_c \\\n",
    "        = get_acc_prob(K, S, L, q1, q2, embed_dim, n_sentences, n_samples)\n",
    "    \n",
    "    print(acc_c)\n",
    "    \n",
    "    accs += acc_c[0]/10\n",
    "    probs += acc_c[1]/10\n",
    "    \n",
    "print((accs, probs))"
   ]
  },
  {
   "cell_type": "code",
   "execution_count": 10,
   "id": "5910567f",
   "metadata": {},
   "outputs": [
    {
     "name": "stdout",
     "output_type": "stream",
     "text": [
      "(0.0, 1.5488775e-21)\n",
      "(0.0, 1.1768545e-23)\n",
      "(0.0, 2.5465403e-21)\n",
      "(0.0, 5.923689e-17)\n",
      "(0.0, 3.4913973e-17)\n",
      "(0.0, 1.4355865e-20)\n",
      "(0.0, 3.4501077e-21)\n",
      "(0.0, 2.1585401e-19)\n",
      "(0.0, 5.2184864e-18)\n",
      "(0.0, 3.4270036e-22)\n",
      "(0.0, 9.960746161072905e-18)\n"
     ]
    }
   ],
   "source": [
    "q0 = 0 # probability of having 0 pairs\n",
    "q1 = 0 # probability of having 1 pair\n",
    "q2 = 1 # probability of having 2 pairs\n",
    "\n",
    "accs = 0\n",
    "probs = 0\n",
    "\n",
    "for _ in range(10):\n",
    "    sentences, mlm_model, vocab_map, acc_c \\\n",
    "        = get_acc_prob(K, S, L, q1, q2, embed_dim, n_sentences, n_samples)\n",
    "    \n",
    "    print(acc_c)\n",
    "    \n",
    "    accs += acc_c[0]/10\n",
    "    probs += acc_c[1]/10\n",
    "    \n",
    "print((accs, probs))"
   ]
  },
  {
   "cell_type": "code",
   "execution_count": 11,
   "id": "f3480dd3",
   "metadata": {},
   "outputs": [
    {
     "name": "stdout",
     "output_type": "stream",
     "text": [
      "(0.996, 0.89421016)\n",
      "(0.976, 0.83682203)\n",
      "(0.985, 0.88399744)\n",
      "(0.99, 0.90350837)\n",
      "(0.955, 0.75299823)\n",
      "(0.994, 0.88997465)\n",
      "(0.981, 0.88729113)\n",
      "(0.996, 0.92090416)\n",
      "(0.993, 0.9272482)\n",
      "(0.997, 0.85806125)\n",
      "(0.9863000000000001, 0.875501561164856)\n"
     ]
    }
   ],
   "source": [
    "q0 = 1/2 # probability of having 0 pairs\n",
    "q1 = 1/2 # probability of having 1 pair\n",
    "q2 = 0 # probability of having 2 pairs\n",
    "\n",
    "accs = 0\n",
    "probs = 0\n",
    "\n",
    "for _ in range(10):\n",
    "    sentences, mlm_model, vocab_map, acc_c \\\n",
    "        = get_acc_prob(K, S, L, q1, q2, embed_dim, n_sentences, n_samples)\n",
    "    \n",
    "    print(acc_c)\n",
    "    \n",
    "    accs += acc_c[0]/10\n",
    "    probs += acc_c[1]/10\n",
    "    \n",
    "print((accs, probs))"
   ]
  },
  {
   "cell_type": "code",
   "execution_count": 12,
   "id": "46ca5547",
   "metadata": {},
   "outputs": [
    {
     "name": "stdout",
     "output_type": "stream",
     "text": [
      "(1.0, 1.0)\n",
      "(1.0, 1.0)\n",
      "(1.0, 1.0)\n",
      "(1.0, 1.0)\n",
      "(1.0, 1.0)\n",
      "(1.0, 1.0)\n",
      "(1.0, 1.0)\n",
      "(1.0, 1.0)\n",
      "(1.0, 1.0)\n",
      "(1.0, 1.0)\n",
      "(0.9999999999999999, 0.9999999999999999)\n"
     ]
    }
   ],
   "source": [
    "q0 = 1/2 # probability of having 0 pairs\n",
    "q1 = 0 # probability of having 1 pair\n",
    "q2 = 1/2 # probability of having 2 pairs\n",
    "\n",
    "accs = 0\n",
    "probs = 0\n",
    "\n",
    "for _ in range(10):\n",
    "    sentences, mlm_model, vocab_map, acc_c \\\n",
    "        = get_acc_prob(K, S, L, q1, q2, embed_dim, n_sentences, n_samples)\n",
    "    \n",
    "    print(acc_c)\n",
    "    \n",
    "    accs += acc_c[0]/10\n",
    "    probs += acc_c[1]/10\n",
    "    \n",
    "print((accs, probs))"
   ]
  },
  {
   "cell_type": "code",
   "execution_count": 15,
   "id": "cd93057c",
   "metadata": {},
   "outputs": [
    {
     "name": "stdout",
     "output_type": "stream",
     "text": [
      "(1.0, 0.9999624)\n",
      "(1.0, 0.9999607)\n",
      "(1.0, 0.99996996)\n",
      "(1.0, 0.99997425)\n",
      "(1.0, 0.9999568)\n",
      "(1.0, 0.9999692)\n",
      "(1.0, 0.99997056)\n",
      "(1.0, 0.9999715)\n",
      "(1.0, 0.9999614)\n",
      "(1.0, 0.99996287)\n",
      "(0.9999999999999999, 0.9999659597873689)\n"
     ]
    }
   ],
   "source": [
    "q0 = 0 # probability of having 0 pairs\n",
    "q1 = 1/2 # probability of having 1 pair\n",
    "q2 = 1/2 # probability of having 2 pairs\n",
    "\n",
    "accs = 0\n",
    "probs = 0\n",
    "\n",
    "for _ in range(10):\n",
    "    sentences, mlm_model, vocab_map, acc_c \\\n",
    "        = get_acc_prob(K, S, L, q1, q2, embed_dim, n_sentences, n_samples)\n",
    "    \n",
    "    print(acc_c)\n",
    "    \n",
    "    accs += acc_c[0]/10\n",
    "    probs += acc_c[1]/10\n",
    "    \n",
    "print((accs, probs))"
   ]
  },
  {
   "cell_type": "code",
   "execution_count": 14,
   "id": "bb9a28cf",
   "metadata": {},
   "outputs": [
    {
     "name": "stdout",
     "output_type": "stream",
     "text": [
      "(1.0, 0.9999999)\n",
      "(1.0, 0.99999887)\n",
      "(1.0, 0.9999999)\n",
      "(1.0, 0.99999976)\n",
      "(1.0, 0.9999999)\n",
      "(1.0, 0.9999999)\n",
      "(1.0, 0.9999999)\n",
      "(1.0, 0.9999999)\n",
      "(1.0, 0.99999887)\n",
      "(1.0, 0.9999999)\n",
      "(0.9999999999999999, 0.9999996662139893)\n"
     ]
    }
   ],
   "source": [
    "q0 = 1/3 # probability of having 0 pairs\n",
    "q1 = 1/3 # probability of having 1 pair\n",
    "q2 = 1/3 # probability of having 2 pairs\n",
    "\n",
    "accs = 0\n",
    "probs = 0\n",
    "\n",
    "for _ in range(10):\n",
    "    sentences, mlm_model, vocab_map, acc_c \\\n",
    "        = get_acc_prob(K, S, L, q1, q2, embed_dim, n_sentences, n_samples)\n",
    "    \n",
    "    print(acc_c)\n",
    "    \n",
    "    accs += acc_c[0]/10\n",
    "    probs += acc_c[1]/10\n",
    "    \n",
    "print((accs, probs))"
   ]
  }
 ],
 "metadata": {
  "kernelspec": {
   "display_name": "Python 3 (ipykernel)",
   "language": "python",
   "name": "python3"
  },
  "language_info": {
   "codemirror_mode": {
    "name": "ipython",
    "version": 3
   },
   "file_extension": ".py",
   "mimetype": "text/x-python",
   "name": "python",
   "nbconvert_exporter": "python",
   "pygments_lexer": "ipython3",
   "version": "3.9.7"
  }
 },
 "nbformat": 4,
 "nbformat_minor": 5
}
