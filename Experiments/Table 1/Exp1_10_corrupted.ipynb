{
 "cells": [
  {
   "cell_type": "code",
   "execution_count": 2,
   "id": "1fad92d0",
   "metadata": {},
   "outputs": [],
   "source": [
    "import pandas as pd\n",
    "import numpy as np\n",
    "import matplotlib.pyplot as plt\n",
    "import numpy.random as npr\n",
    "import random\n",
    "\n",
    "import tensorflow as tf\n",
    "from tensorflow import keras\n",
    "from tensorflow.keras import layers\n",
    "from tensorflow.keras import backend as K\n",
    "from keras.optimizers import Adam\n",
    "from keras_nlp.layers import PositionEmbedding"
   ]
  },
  {
   "cell_type": "code",
   "execution_count": 3,
   "id": "3aa3c0c9",
   "metadata": {},
   "outputs": [],
   "source": [
    "seed = 428\n",
    "\n",
    "np.random.seed(seed)\n",
    "tf.random.set_seed(seed)\n",
    "random.seed(seed)"
   ]
  },
  {
   "cell_type": "code",
   "execution_count": 4,
   "id": "945b22e2",
   "metadata": {},
   "outputs": [],
   "source": [
    "def get_masked_input_and_labels(encoded_texts, n_cat):\n",
    "    # For each sentence, mask each word one-by-one\n",
    "\n",
    "    encoded_texts_masked = []\n",
    "    y_labels = []\n",
    "\n",
    "    for encoded_text in encoded_texts:\n",
    "        for i in range(len(encoded_text)):\n",
    "            encoded_text_masked = np.copy(encoded_text)\n",
    "            y_label = encoded_text_masked[i]\n",
    "            encoded_texts_masked.append(np.delete(encoded_text_masked, i))\n",
    "            y_labels.append(np.array([y_label]))\n",
    "\n",
    "    return np.array(encoded_texts_masked), np.array(y_labels)"
   ]
  },
  {
   "cell_type": "code",
   "execution_count": 14,
   "id": "25d38e05",
   "metadata": {},
   "outputs": [],
   "source": [
    "#### K = number of countries = number of capitals\n",
    "#### S = number of words used by both topics\n",
    "#### L = sentence length\n",
    "#### q1, q2 = probability of having 1 or 2 pairs\n",
    "#### embed_dim = dimension of embeddings\n",
    "#### n_sentences = number of training sentences\n",
    "\n",
    "def train_model(K, S, L, q1, q2, embed_dim, n_sentences):\n",
    "    \n",
    "    countries = ['country_' + str(i) for i in range(K)]\n",
    "    capitals = ['capital_' + str(i) for i in range(K)]\n",
    "    randoms = ['random_' + str(i) for i in range(S)]\n",
    "\n",
    "    vocabs = countries + capitals + randoms\n",
    "    vocab_map = {}\n",
    "\n",
    "    for i in range(len(vocabs)):\n",
    "        vocab_map[vocabs[i]] = i\n",
    "        \n",
    "    sentences = []\n",
    "    sentences_number = []\n",
    "    \n",
    "    q0 = 1 - q1 - q2\n",
    "\n",
    "    for i in range(n_sentences):\n",
    "\n",
    "        sentence = []\n",
    "\n",
    "        temp2 = npr.uniform()\n",
    "        \n",
    "        if temp2 <= q0:\n",
    "            n_pairs = 0\n",
    "        elif temp2 <= q0 + q1:\n",
    "            n_pairs = 1\n",
    "        else:\n",
    "            n_pairs = 2\n",
    "        \n",
    "        pairs = np.random.choice(np.arange(K), n_pairs, replace = False)\n",
    "        for pair in pairs:\n",
    "            temp3 = npr.uniform()\n",
    "            \n",
    "            if temp3 <= 0.5:\n",
    "                sentence.append(countries[pair])\n",
    "                sentence.append(capitals[pair])\n",
    "            elif temp3 <= 0.75:\n",
    "                sentence.append(countries[pair])\n",
    "            else:\n",
    "                sentence.append(capitals[pair])\n",
    "                \n",
    "        sentence += list(np.random.choice(randoms, L - len(sentence), replace = False))\n",
    "\n",
    "        sentence_number = [vocab_map[i] for i in sentence]\n",
    "        sentences.append(sentence)\n",
    "        sentences_number.append(sentence_number)\n",
    "        \n",
    "    x_train = np.array(sentences_number)\n",
    "    n_cat = len(vocab_map)\n",
    "    x_masked_train, y_masked_labels_train = get_masked_input_and_labels(x_train, n_cat)\n",
    "    \n",
    "    callback = keras.callbacks.EarlyStopping(monitor = 'val_loss', patience = 5, restore_best_weights = True)\n",
    "    inputs = layers.Input((x_masked_train.shape[1],), dtype=tf.int64)\n",
    "    word_embeddings = layers.Embedding(n_cat, embed_dim, name=\"word_embedding\")(inputs)\n",
    "    encoder_output = layers.GlobalAveragePooling1D()(word_embeddings)\n",
    "    mlm_output = layers.Dense(n_cat, name=\"mlm_cls\", activation=\"softmax\", use_bias=False)(encoder_output)\n",
    "    mlm_model = keras.Model(inputs = inputs, outputs = mlm_output)\n",
    "    adam = Adam()\n",
    "    mlm_model.compile(loss='sparse_categorical_crossentropy', optimizer=adam)\n",
    "\n",
    "    history = mlm_model.fit(x_masked_train, y_masked_labels_train,\n",
    "                        validation_split = 0.5, callbacks = [callback], \n",
    "                        epochs=500, batch_size=128, verbose=0)\n",
    "    \n",
    "    return sentences, vocab_map, mlm_model"
   ]
  },
  {
   "cell_type": "code",
   "execution_count": 15,
   "id": "52e098ca",
   "metadata": {},
   "outputs": [],
   "source": [
    "def get_acc_prob(K, S, L, q1, q2, embed_dim, n_sentences, n_samples):\n",
    "    \n",
    "    sentences, vocab_map, current_model = train_model(K, S, L, q1, q2, embed_dim, n_sentences)\n",
    "\n",
    "    acc_countries = []\n",
    "    prob_countries = []\n",
    "\n",
    "    for _ in range(n_samples):\n",
    "        sentence = []\n",
    "        random_countries = np.random.choice(np.arange(K), int(L/2), replace = False)\n",
    "        for random_country in random_countries:\n",
    "            sentence.append('country_' + str(random_country))\n",
    "            sentence.append('capital_' + str(random_country))\n",
    "        sentence = sentence[:-1]\n",
    "        sentence_number = [vocab_map[i] for i in sentence]\n",
    "        temp = keras.backend.function(inputs = current_model.layers[0].input, outputs = current_model.layers[-1].output) \\\n",
    "            (np.array(sentence_number).reshape(1,len(sentence_number)))\n",
    "        actual = vocab_map['capital_' + str(random_countries[-1])]\n",
    "        acc_countries.append(1 if np.argsort(-1 * temp)[0][0] == actual else 0)\n",
    "        prob_countries.append(temp[0][vocab_map['capital_' + str(random_countries[-1])]])\n",
    "        \n",
    "\n",
    "    return sentences, current_model, vocab_map, (np.mean(acc_countries), np.mean(prob_countries))"
   ]
  },
  {
   "cell_type": "code",
   "execution_count": 16,
   "id": "20d170a1",
   "metadata": {},
   "outputs": [],
   "source": [
    "K = 10 # number of countries\n",
    "L = 8 # sentence length\n",
    "S = 20 # number of words used by both topics\n",
    "embed_dim = 10 # CBOW embedding dimension\n",
    "n_sentences = 50000 # number of sentences in the training set\n",
    "n_samples = 1000"
   ]
  },
  {
   "cell_type": "code",
   "execution_count": 17,
   "id": "9d8beabe",
   "metadata": {},
   "outputs": [
    {
     "name": "stdout",
     "output_type": "stream",
     "text": [
      "(0.0, 4.02201e-34)\n",
      "(0.0, 2.3161344e-32)\n",
      "(0.0, 4.0661887e-38)\n",
      "(0.0, 1.4104819e-37)\n",
      "(0.0, 8.6619975e-34)\n",
      "(0.0, 3.1690252e-32)\n",
      "(0.0, 2.888169e-31)\n",
      "(0.0, 1.8353992e-33)\n",
      "(0.0, 6.487085e-38)\n",
      "(0.0, 1.8004736e-36)\n",
      "(0.0, 3.467743364152655e-32)\n"
     ]
    }
   ],
   "source": [
    "q0 = 0 # probability of having 0 pairs\n",
    "q1 = 1 # probability of having 1 pair\n",
    "q2 = 0 # probability of having 2 pairs\n",
    "\n",
    "accs = 0\n",
    "probs = 0\n",
    "\n",
    "for _ in range(10):\n",
    "    sentences, mlm_model, vocab_map, acc_c \\\n",
    "        = get_acc_prob(K, S, L, q1, q2, embed_dim, n_sentences, n_samples)\n",
    "    \n",
    "    print(acc_c)\n",
    "    \n",
    "    accs += acc_c[0]/10\n",
    "    probs += acc_c[1]/10\n",
    "    \n",
    "print((accs, probs))"
   ]
  },
  {
   "cell_type": "code",
   "execution_count": 18,
   "id": "6a226ee5",
   "metadata": {},
   "outputs": [
    {
     "name": "stdout",
     "output_type": "stream",
     "text": [
      "(0.0, 0.001220165)\n",
      "(0.0, 0.0012740527)\n",
      "(0.0, 0.0012170984)\n",
      "(0.0, 0.0011657353)\n",
      "(0.0, 0.0009795047)\n",
      "(0.0, 0.0010941147)\n",
      "(0.0, 0.0012769657)\n",
      "(0.0, 0.0011780419)\n",
      "(0.0, 0.0010779926)\n",
      "(0.0, 0.0011299934)\n",
      "(0.0, 0.0011613664450123907)\n"
     ]
    }
   ],
   "source": [
    "q0 = 0 # probability of having 0 pairs\n",
    "q1 = 0 # probability of having 1 pair\n",
    "q2 = 1 # probability of having 2 pairs\n",
    "\n",
    "accs = 0\n",
    "probs = 0\n",
    "\n",
    "for _ in range(10):\n",
    "    sentences, mlm_model, vocab_map, acc_c \\\n",
    "        = get_acc_prob(K, S, L, q1, q2, embed_dim, n_sentences, n_samples)\n",
    "    \n",
    "    print(acc_c)\n",
    "    \n",
    "    accs += acc_c[0]/10\n",
    "    probs += acc_c[1]/10\n",
    "    \n",
    "print((accs, probs))"
   ]
  },
  {
   "cell_type": "code",
   "execution_count": 19,
   "id": "1002d379",
   "metadata": {
    "scrolled": true
   },
   "outputs": [
    {
     "name": "stdout",
     "output_type": "stream",
     "text": [
      "(0.0, 6.0728855e-31)\n",
      "(0.0, 3.3580639e-31)\n",
      "(0.0, 4.714825e-15)\n",
      "(0.0, 2.7262625e-29)\n",
      "(0.0, 4.166895e-31)\n",
      "(0.0, 2.6478285e-18)\n",
      "(0.0, 4.2192183e-18)\n",
      "(0.0, 4.55418e-18)\n",
      "(0.0, 5.3733585e-30)\n",
      "(0.0, 4.306775e-29)\n",
      "(0.0, 4.726246321773037e-16)\n"
     ]
    }
   ],
   "source": [
    "q0 = 1/2 # probability of having 0 pairs\n",
    "q1 = 1/2 # probability of having 1 pair\n",
    "q2 = 0 # probability of having 2 pairs\n",
    "\n",
    "accs = 0\n",
    "probs = 0\n",
    "\n",
    "for _ in range(10):\n",
    "    sentences, mlm_model, vocab_map, acc_c \\\n",
    "        = get_acc_prob(K, S, L, q1, q2, embed_dim, n_sentences, n_samples)\n",
    "    \n",
    "    print(acc_c)\n",
    "    \n",
    "    accs += acc_c[0]/10\n",
    "    probs += acc_c[1]/10\n",
    "    \n",
    "print((accs, probs))"
   ]
  },
  {
   "cell_type": "code",
   "execution_count": 20,
   "id": "b43fa193",
   "metadata": {
    "scrolled": true
   },
   "outputs": [
    {
     "name": "stdout",
     "output_type": "stream",
     "text": [
      "(1.0, 0.46577448)\n",
      "(1.0, 0.47689477)\n",
      "(1.0, 0.45475355)\n",
      "(1.0, 0.4545888)\n",
      "(1.0, 0.47462305)\n",
      "(1.0, 0.4558761)\n",
      "(1.0, 0.46711951)\n",
      "(1.0, 0.47491962)\n",
      "(1.0, 0.46705177)\n",
      "(1.0, 0.47733486)\n",
      "(0.9999999999999999, 0.46689365208148953)\n"
     ]
    }
   ],
   "source": [
    "q0 = 1/2 # probability of having 0 pairs\n",
    "q1 = 0 # probability of having 1 pair\n",
    "q2 = 1/2 # probability of having 2 pairs\n",
    "\n",
    "accs = 0\n",
    "probs = 0\n",
    "\n",
    "for _ in range(10):\n",
    "    sentences, mlm_model, vocab_map, acc_c \\\n",
    "        = get_acc_prob(K, S, L, q1, q2, embed_dim, n_sentences, n_samples)\n",
    "    \n",
    "    print(acc_c)\n",
    "    \n",
    "    accs += acc_c[0]/10\n",
    "    probs += acc_c[1]/10\n",
    "    \n",
    "print((accs, probs))"
   ]
  },
  {
   "cell_type": "code",
   "execution_count": 21,
   "id": "08205c56",
   "metadata": {},
   "outputs": [
    {
     "name": "stdout",
     "output_type": "stream",
     "text": [
      "(0.0, 0.028662467)\n",
      "(0.0, 0.030035693)\n",
      "(0.0, 0.028578553)\n",
      "(0.0, 0.025884686)\n",
      "(0.0, 0.024634361)\n",
      "(0.0, 0.02804324)\n",
      "(0.0, 0.025818123)\n",
      "(0.0, 0.026257604)\n",
      "(0.0, 0.028830184)\n",
      "(0.0, 0.027264695428311825)\n"
     ]
    }
   ],
   "source": [
    "q0 = 0 # probability of having 0 pairs\n",
    "q1 = 1/2 # probability of having 1 pair\n",
    "q2 = 1/2 # probability of having 2 pairs\n",
    "\n",
    "accs = 0\n",
    "probs = 0\n",
    "\n",
    "for _ in range(10):\n",
    "    sentences, mlm_model, vocab_map, acc_c \\\n",
    "        = get_acc_prob(K, S, L, q1, q2, embed_dim, n_sentences, n_samples)\n",
    "    \n",
    "    print(acc_c)\n",
    "    \n",
    "    accs += acc_c[0]/10\n",
    "    probs += acc_c[1]/10\n",
    "    \n",
    "print((accs, probs))"
   ]
  },
  {
   "cell_type": "code",
   "execution_count": 22,
   "id": "d01abbf3",
   "metadata": {},
   "outputs": [
    {
     "name": "stdout",
     "output_type": "stream",
     "text": [
      "(1.0, 0.24131641)\n",
      "(1.0, 0.23955533)\n",
      "(1.0, 0.2558268)\n",
      "(1.0, 0.22745374)\n",
      "(1.0, 0.26036778)\n",
      "(1.0, 0.25960225)\n",
      "(1.0, 0.23885767)\n",
      "(1.0, 0.24991575)\n",
      "(1.0, 0.25016883)\n",
      "(1.0, 0.24761637)\n",
      "(0.9999999999999999, 0.2470680922269821)\n"
     ]
    }
   ],
   "source": [
    "q0 = 1/3 # probability of having 0 pairs\n",
    "q1 = 1/3 # probability of having 1 pair\n",
    "q2 = 1/3 # probability of having 2 pairs\n",
    "\n",
    "accs = 0\n",
    "probs = 0\n",
    "\n",
    "for _ in range(10):\n",
    "    sentences, mlm_model, vocab_map, acc_c \\\n",
    "        = get_acc_prob(K, S, L, q1, q2, embed_dim, n_sentences, n_samples)\n",
    "    \n",
    "    print(acc_c)\n",
    "    \n",
    "    accs += acc_c[0]/10\n",
    "    probs += acc_c[1]/10\n",
    "    \n",
    "print((accs, probs))"
   ]
  }
 ],
 "metadata": {
  "kernelspec": {
   "display_name": "Python 3 (ipykernel)",
   "language": "python",
   "name": "python3"
  },
  "language_info": {
   "codemirror_mode": {
    "name": "ipython",
    "version": 3
   },
   "file_extension": ".py",
   "mimetype": "text/x-python",
   "name": "python",
   "nbconvert_exporter": "python",
   "pygments_lexer": "ipython3",
   "version": "3.9.7"
  }
 },
 "nbformat": 4,
 "nbformat_minor": 5
}
