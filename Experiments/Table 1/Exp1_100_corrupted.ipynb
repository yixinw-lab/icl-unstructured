{
 "cells": [
  {
   "cell_type": "code",
   "execution_count": 2,
   "id": "1fad92d0",
   "metadata": {},
   "outputs": [],
   "source": [
    "import pandas as pd\n",
    "import numpy as np\n",
    "import matplotlib.pyplot as plt\n",
    "import numpy.random as npr\n",
    "import random\n",
    "\n",
    "import tensorflow as tf\n",
    "from tensorflow import keras\n",
    "from tensorflow.keras import layers\n",
    "from tensorflow.keras import backend as K\n",
    "from keras.optimizers import Adam\n",
    "from keras_nlp.layers import PositionEmbedding"
   ]
  },
  {
   "cell_type": "code",
   "execution_count": 3,
   "id": "3aa3c0c9",
   "metadata": {},
   "outputs": [],
   "source": [
    "seed = 428\n",
    "\n",
    "np.random.seed(seed)\n",
    "tf.random.set_seed(seed)\n",
    "random.seed(seed)"
   ]
  },
  {
   "cell_type": "code",
   "execution_count": 4,
   "id": "945b22e2",
   "metadata": {},
   "outputs": [],
   "source": [
    "def get_masked_input_and_labels(encoded_texts, n_cat):\n",
    "    # For each sentence, mask each word one-by-one\n",
    "\n",
    "    encoded_texts_masked = []\n",
    "    y_labels = []\n",
    "\n",
    "    for encoded_text in encoded_texts:\n",
    "        for i in range(len(encoded_text)):\n",
    "            encoded_text_masked = np.copy(encoded_text)\n",
    "            y_label = encoded_text_masked[i]\n",
    "            encoded_texts_masked.append(np.delete(encoded_text_masked, i))\n",
    "            y_labels.append(np.array([y_label]))\n",
    "\n",
    "    return np.array(encoded_texts_masked), np.array(y_labels)"
   ]
  },
  {
   "cell_type": "code",
   "execution_count": 5,
   "id": "25d38e05",
   "metadata": {},
   "outputs": [],
   "source": [
    "#### K = number of countries = number of capitals\n",
    "#### S = number of words used by both topics\n",
    "#### L = sentence length\n",
    "#### q1, q2 = probability of having 1 or 2 pairs\n",
    "#### embed_dim = dimension of embeddings\n",
    "#### n_sentences = number of training sentences\n",
    "\n",
    "def train_model(K, S, L, q1, q2, embed_dim, n_sentences):\n",
    "    \n",
    "    countries = ['country_' + str(i) for i in range(K)]\n",
    "    capitals = ['capital_' + str(i) for i in range(K)]\n",
    "    randoms = ['random_' + str(i) for i in range(S)]\n",
    "\n",
    "    vocabs = countries + capitals + randoms\n",
    "    vocab_map = {}\n",
    "\n",
    "    for i in range(len(vocabs)):\n",
    "        vocab_map[vocabs[i]] = i\n",
    "        \n",
    "    sentences = []\n",
    "    sentences_number = []\n",
    "    \n",
    "    q0 = 1 - q1 - q2\n",
    "\n",
    "    for i in range(n_sentences):\n",
    "\n",
    "        sentence = []\n",
    "\n",
    "        temp2 = npr.uniform()\n",
    "        \n",
    "        if temp2 <= q0:\n",
    "            n_pairs = 0\n",
    "        elif temp2 <= q0 + q1:\n",
    "            n_pairs = 1\n",
    "        else:\n",
    "            n_pairs = 2\n",
    "        \n",
    "        pairs = np.random.choice(np.arange(K), n_pairs, replace = False)\n",
    "        for pair in pairs:\n",
    "            temp3 = npr.uniform()\n",
    "            \n",
    "            if temp3 <= 0.5:\n",
    "                sentence.append(countries[pair])\n",
    "                sentence.append(capitals[pair])\n",
    "            elif temp3 <= 0.75:\n",
    "                sentence.append(countries[pair])\n",
    "            else:\n",
    "                sentence.append(capitals[pair])\n",
    "                \n",
    "        sentence += list(np.random.choice(randoms, L - len(sentence), replace = False))\n",
    "\n",
    "        sentence_number = [vocab_map[i] for i in sentence]\n",
    "        sentences.append(sentence)\n",
    "        sentences_number.append(sentence_number)\n",
    "        \n",
    "    x_train = np.array(sentences_number)\n",
    "    n_cat = len(vocab_map)\n",
    "    x_masked_train, y_masked_labels_train = get_masked_input_and_labels(x_train, n_cat)\n",
    "    \n",
    "    callback = keras.callbacks.EarlyStopping(monitor = 'val_loss', patience = 5, restore_best_weights = True)\n",
    "    inputs = layers.Input((x_masked_train.shape[1],), dtype=tf.int64)\n",
    "    word_embeddings = layers.Embedding(n_cat, embed_dim, name=\"word_embedding\")(inputs)\n",
    "    encoder_output = layers.GlobalAveragePooling1D()(word_embeddings)\n",
    "    mlm_output = layers.Dense(n_cat, name=\"mlm_cls\", activation=\"softmax\", use_bias=False)(encoder_output)\n",
    "    mlm_model = keras.Model(inputs = inputs, outputs = mlm_output)\n",
    "    adam = Adam()\n",
    "    mlm_model.compile(loss='sparse_categorical_crossentropy', optimizer=adam)\n",
    "\n",
    "    history = mlm_model.fit(x_masked_train, y_masked_labels_train,\n",
    "                        validation_split = 0.5, callbacks = [callback], \n",
    "                        epochs=500, batch_size=128, verbose=0)\n",
    "    \n",
    "    return sentences, vocab_map, mlm_model"
   ]
  },
  {
   "cell_type": "code",
   "execution_count": 6,
   "id": "52e098ca",
   "metadata": {},
   "outputs": [],
   "source": [
    "def get_acc_prob(K, S, L, q1, q2, embed_dim, n_sentences, n_samples):\n",
    "    \n",
    "    sentences, vocab_map, current_model = train_model(K, S, L, q1, q2, embed_dim, n_sentences)\n",
    "\n",
    "    acc_countries = []\n",
    "    prob_countries = []\n",
    "\n",
    "    for _ in range(n_samples):\n",
    "        sentence = []\n",
    "        random_countries = np.random.choice(np.arange(K), int(L/2), replace = False)\n",
    "        for random_country in random_countries:\n",
    "            sentence.append('country_' + str(random_country))\n",
    "            sentence.append('capital_' + str(random_country))\n",
    "        sentence = sentence[:-1]\n",
    "        sentence_number = [vocab_map[i] for i in sentence]\n",
    "        temp = keras.backend.function(inputs = current_model.layers[0].input, outputs = current_model.layers[-1].output) \\\n",
    "            (np.array(sentence_number).reshape(1,len(sentence_number)))\n",
    "        actual = vocab_map['capital_' + str(random_countries[-1])]\n",
    "        acc_countries.append(1 if np.argsort(-1 * temp)[0][0] == actual else 0)\n",
    "        prob_countries.append(temp[0][vocab_map['capital_' + str(random_countries[-1])]])\n",
    "        \n",
    "\n",
    "    return sentences, current_model, vocab_map, (np.mean(acc_countries), np.mean(prob_countries))"
   ]
  },
  {
   "cell_type": "code",
   "execution_count": 7,
   "id": "20d170a1",
   "metadata": {},
   "outputs": [],
   "source": [
    "K = 10 # number of countries\n",
    "L = 8 # sentence length\n",
    "S = 20 # number of words used by both topics\n",
    "embed_dim = 100 # CBOW embedding dimension\n",
    "n_sentences = 50000 # number of sentences in the training set\n",
    "n_samples = 1000"
   ]
  },
  {
   "cell_type": "code",
   "execution_count": 9,
   "id": "9d8beabe",
   "metadata": {},
   "outputs": [
    {
     "name": "stdout",
     "output_type": "stream",
     "text": [
      "(0.0, 1.27834e-28)\n",
      "(0.0, 4.444101e-31)\n",
      "(0.0, 4.658759e-30)\n",
      "(0.0, 1.4080529e-30)\n",
      "(0.0, 5.567694e-30)\n",
      "(0.0, 1.9125569e-29)\n",
      "(0.0, 4.301042e-28)\n",
      "(0.0, 5.2385323e-31)\n",
      "(0.0, 4.0240155e-30)\n",
      "(0.0, 3.1978114e-30)\n",
      "(0.0, 5.968883747866692e-29)\n"
     ]
    }
   ],
   "source": [
    "q0 = 0 # probability of having 0 pairs\n",
    "q1 = 1 # probability of having 1 pair\n",
    "q2 = 0 # probability of having 2 pairs\n",
    "\n",
    "accs = 0\n",
    "probs = 0\n",
    "\n",
    "for _ in range(10):\n",
    "    sentences, mlm_model, vocab_map, acc_c \\\n",
    "        = get_acc_prob(K, S, L, q1, q2, embed_dim, n_sentences, n_samples)\n",
    "    \n",
    "    print(acc_c)\n",
    "    \n",
    "    accs += acc_c[0]/10\n",
    "    probs += acc_c[1]/10\n",
    "    \n",
    "print((accs, probs))"
   ]
  },
  {
   "cell_type": "code",
   "execution_count": 10,
   "id": "6a226ee5",
   "metadata": {},
   "outputs": [
    {
     "name": "stdout",
     "output_type": "stream",
     "text": [
      "(0.0, 0.001392188)\n",
      "(0.0, 0.0014087613)\n",
      "(0.0, 0.0013881044)\n",
      "(0.0, 0.0015317573)\n",
      "(0.0, 0.001432816)\n",
      "(0.0, 0.0017275527)\n",
      "(0.0, 0.0013761909)\n",
      "(0.0, 0.0014950656)\n",
      "(0.0, 0.0012925585)\n",
      "(0.0, 0.0015959908)\n",
      "(0.0, 0.0014640985638834534)\n"
     ]
    }
   ],
   "source": [
    "q0 = 0 # probability of having 0 pairs\n",
    "q1 = 0 # probability of having 1 pair\n",
    "q2 = 1 # probability of having 2 pairs\n",
    "\n",
    "accs = 0\n",
    "probs = 0\n",
    "\n",
    "for _ in range(10):\n",
    "    sentences, mlm_model, vocab_map, acc_c \\\n",
    "        = get_acc_prob(K, S, L, q1, q2, embed_dim, n_sentences, n_samples)\n",
    "    \n",
    "    print(acc_c)\n",
    "    \n",
    "    accs += acc_c[0]/10\n",
    "    probs += acc_c[1]/10\n",
    "    \n",
    "print((accs, probs))"
   ]
  },
  {
   "cell_type": "code",
   "execution_count": 11,
   "id": "1002d379",
   "metadata": {
    "scrolled": true
   },
   "outputs": [
    {
     "name": "stdout",
     "output_type": "stream",
     "text": [
      "(0.0, 9.229606e-10)\n",
      "(0.0, 6.7816317e-09)\n",
      "(0.0, 6.5903984e-09)\n",
      "(0.0, 1.4319855e-08)\n",
      "(0.0, 3.4659073e-09)\n",
      "(0.0, 1.0837894e-09)\n",
      "(0.0, 2.7575278e-09)\n",
      "(0.0, 2.4959612e-09)\n",
      "(0.0, 1.7927567e-08)\n",
      "(0.0, 8.553309e-09)\n",
      "(0.0, 6.489890724825641e-09)\n"
     ]
    }
   ],
   "source": [
    "q0 = 1/2 # probability of having 0 pairs\n",
    "q1 = 1/2 # probability of having 1 pair\n",
    "q2 = 0 # probability of having 2 pairs\n",
    "\n",
    "accs = 0\n",
    "probs = 0\n",
    "\n",
    "for _ in range(10):\n",
    "    sentences, mlm_model, vocab_map, acc_c \\\n",
    "        = get_acc_prob(K, S, L, q1, q2, embed_dim, n_sentences, n_samples)\n",
    "    \n",
    "    print(acc_c)\n",
    "    \n",
    "    accs += acc_c[0]/10\n",
    "    probs += acc_c[1]/10\n",
    "    \n",
    "print((accs, probs))"
   ]
  },
  {
   "cell_type": "code",
   "execution_count": 12,
   "id": "b43fa193",
   "metadata": {
    "scrolled": true
   },
   "outputs": [
    {
     "name": "stdout",
     "output_type": "stream",
     "text": [
      "(1.0, 0.49655265)\n",
      "(1.0, 0.5201077)\n",
      "(1.0, 0.49363825)\n",
      "(1.0, 0.4974702)\n",
      "(1.0, 0.5078312)\n",
      "(1.0, 0.5074527)\n",
      "(1.0, 0.48843002)\n",
      "(1.0, 0.5032265)\n",
      "(1.0, 0.5153655)\n",
      "(1.0, 0.49349388)\n",
      "(0.9999999999999999, 0.5023568630218506)\n"
     ]
    }
   ],
   "source": [
    "q0 = 1/2 # probability of having 0 pairs\n",
    "q1 = 0 # probability of having 1 pair\n",
    "q2 = 1/2 # probability of having 2 pairs\n",
    "\n",
    "accs = 0\n",
    "probs = 0\n",
    "\n",
    "for _ in range(10):\n",
    "    sentences, mlm_model, vocab_map, acc_c \\\n",
    "        = get_acc_prob(K, S, L, q1, q2, embed_dim, n_sentences, n_samples)\n",
    "    \n",
    "    print(acc_c)\n",
    "    \n",
    "    accs += acc_c[0]/10\n",
    "    probs += acc_c[1]/10\n",
    "    \n",
    "print((accs, probs))"
   ]
  },
  {
   "cell_type": "code",
   "execution_count": 13,
   "id": "08205c56",
   "metadata": {},
   "outputs": [
    {
     "name": "stdout",
     "output_type": "stream",
     "text": [
      "(0.0, 0.030038323)\n",
      "(0.0, 0.032365248)\n",
      "(0.081, 0.040069006)\n",
      "(0.0, 0.029754665)\n",
      "(0.009, 0.033585098)\n",
      "(0.011, 0.034003943)\n",
      "(0.015, 0.034744516)\n",
      "(0.001, 0.030264061)\n",
      "(0.004, 0.028253706)\n",
      "(0.004, 0.032905467)\n",
      "(0.012499999999999997, 0.03259840328246355)\n"
     ]
    }
   ],
   "source": [
    "q0 = 0 # probability of having 0 pairs\n",
    "q1 = 1/2 # probability of having 1 pair\n",
    "q2 = 1/2 # probability of having 2 pairs\n",
    "\n",
    "accs = 0\n",
    "probs = 0\n",
    "\n",
    "for _ in range(10):\n",
    "    sentences, mlm_model, vocab_map, acc_c \\\n",
    "        = get_acc_prob(K, S, L, q1, q2, embed_dim, n_sentences, n_samples)\n",
    "    \n",
    "    print(acc_c)\n",
    "    \n",
    "    accs += acc_c[0]/10\n",
    "    probs += acc_c[1]/10\n",
    "    \n",
    "print((accs, probs))"
   ]
  },
  {
   "cell_type": "code",
   "execution_count": 14,
   "id": "d01abbf3",
   "metadata": {},
   "outputs": [
    {
     "name": "stdout",
     "output_type": "stream",
     "text": [
      "(1.0, 0.26847592)\n",
      "(1.0, 0.26693115)\n",
      "(1.0, 0.265935)\n",
      "(1.0, 0.24719693)\n",
      "(1.0, 0.2652851)\n",
      "(1.0, 0.25266227)\n",
      "(1.0, 0.28976962)\n",
      "(1.0, 0.27169693)\n",
      "(1.0, 0.2785178)\n",
      "(1.0, 0.2963298)\n",
      "(0.9999999999999999, 0.2702800527215004)\n"
     ]
    }
   ],
   "source": [
    "q0 = 1/3 # probability of having 0 pairs\n",
    "q1 = 1/3 # probability of having 1 pair\n",
    "q2 = 1/3 # probability of having 2 pairs\n",
    "\n",
    "accs = 0\n",
    "probs = 0\n",
    "\n",
    "for _ in range(10):\n",
    "    sentences, mlm_model, vocab_map, acc_c \\\n",
    "        = get_acc_prob(K, S, L, q1, q2, embed_dim, n_sentences, n_samples)\n",
    "    \n",
    "    print(acc_c)\n",
    "    \n",
    "    accs += acc_c[0]/10\n",
    "    probs += acc_c[1]/10\n",
    "    \n",
    "print((accs, probs))"
   ]
  },
  {
   "cell_type": "code",
   "execution_count": null,
   "id": "e8084314",
   "metadata": {},
   "outputs": [],
   "source": []
  },
  {
   "cell_type": "code",
   "execution_count": null,
   "id": "ed0e230a",
   "metadata": {},
   "outputs": [],
   "source": []
  }
 ],
 "metadata": {
  "kernelspec": {
   "display_name": "Python 3 (ipykernel)",
   "language": "python",
   "name": "python3"
  },
  "language_info": {
   "codemirror_mode": {
    "name": "ipython",
    "version": 3
   },
   "file_extension": ".py",
   "mimetype": "text/x-python",
   "name": "python",
   "nbconvert_exporter": "python",
   "pygments_lexer": "ipython3",
   "version": "3.9.7"
  }
 },
 "nbformat": 4,
 "nbformat_minor": 5
}
